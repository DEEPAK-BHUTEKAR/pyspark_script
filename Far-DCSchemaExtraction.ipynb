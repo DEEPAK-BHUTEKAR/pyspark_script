{
 "cells": [
  {
   "cell_type": "code",
   "execution_count": 1,
   "id": "2e0d0fc5-ffb3-475e-b5d5-c2791ead6e07",
   "metadata": {},
   "outputs": [
    {
     "data": {
      "text/plain": [
       "UserID: string\n",
       "SerialNumber: string\n",
       "LastCommDate: timestamp[us]\n",
       "LogonTime: timestamp[us]\n",
       "EquipmentID: string\n",
       "EquipmentTime: timestamp[us]\n",
       "StopSelectionIndicator: int32\n",
       "AssignmentNumber: string\n",
       "AssignmentPK: int64\n",
       "Section: string\n",
       "RouteID: string\n",
       "DeliveryDate: timestamp[us]\n",
       "Door: string\n",
       "Activity: string\n",
       "DelayCode: string\n",
       "DelayBeginTime: timestamp[us]\n",
       "ShiftStartDateTime: timestamp[us]\n",
       "MACAddr: string\n",
       "LastMsgID: string\n",
       "BatchPK: int64\n",
       "DelayReason: string\n",
       "PauseWorkIndicator: int32\n",
       "Cdc_Row_Load_Ts: timestamp[us]\n",
       "Cdc_Row_Change_Code: string\n",
       "Audit_Orig_Src_Sys_Code: string\n",
       "Audit_Ingest_Src_Sys_Code: string"
      ]
     },
     "execution_count": 1,
     "metadata": {},
     "output_type": "execute_result"
    }
   ],
   "source": [
    "import pyarrow.parquet as pq\n",
    "path='C:\\\\Users\\\\dkprn4d\\\\Downloads\\\\FAR-DC\\\\activeuser.parquet'\n",
    "table = pq.read_table(path)\n",
    "table.schema"
   ]
  },
  {
   "cell_type": "code",
   "execution_count": 2,
   "id": "94addde8-35f4-447c-be64-951f593ca300",
   "metadata": {},
   "outputs": [
    {
     "data": {
      "text/plain": [
       "ActivityPK: int64\n",
       "ActivityDateTime: timestamp[us]\n",
       "UserID: string\n",
       "ActivityType: string\n",
       "Section: string\n",
       "RouteID: string\n",
       "DeliveryDate: timestamp[us]\n",
       "AssignmentNumber: string\n",
       "Aisle: string\n",
       "Slot: string\n",
       "ItemNumber: string\n",
       "ItemDescription: string\n",
       "OrderNumber: string\n",
       "OrderLineNumber: string\n",
       "QtyToPick: int32\n",
       "PickedQty: int32\n",
       "ShortQty: int32\n",
       "StandardTime: string\n",
       "DelayCode: string\n",
       "DelayReason: string\n",
       "SlotCount: int32\n",
       "ShiftStartDateTime: timestamp[us]\n",
       "UserName: string\n",
       "SlotIdentificationMethod: string\n",
       "OccAvailableIndicator: int32\n",
       "MACAddr: string\n",
       "BarcodeScanned: string\n",
       "ReceivedByHostDateTime: timestamp[us]\n",
       "PickPK: int64\n",
       "ExportMessageXML: string\n",
       "TotalQtyPickedAtSlot: int32\n",
       "StopID: string\n",
       "StopCode: string\n",
       "ShortCode: string\n",
       "ShortReason: string\n",
       "PrinterID: string\n",
       "PrinterSerialNumber: string\n",
       "PrinterFirmwareVersion: string\n",
       "UserDefined1: string\n",
       "UserDefined2: string\n",
       "AssignmentPK: int64\n",
       "SubordinateCombined: int32\n",
       "LaborReported: int32\n",
       "BatchPK: int64\n",
       "Cdc_Row_Load_Ts: timestamp[us]\n",
       "Cdc_Row_Change_Code: string\n",
       "Audit_Orig_Src_Sys_Code: string\n",
       "Audit_Ingest_Src_Sys_Code: string"
      ]
     },
     "execution_count": 2,
     "metadata": {},
     "output_type": "execute_result"
    }
   ],
   "source": [
    "import pyarrow.parquet as pq\n",
    "path='C:\\\\Users\\\\dkprn4d\\\\Downloads\\\\FAR-DC\\\\Activity.parquet'\n",
    "table = pq.read_table(path)\n",
    "table.schema"
   ]
  },
  {
   "cell_type": "code",
   "execution_count": 3,
   "id": "fb2824e8-085e-4845-99ad-e0c503f0be08",
   "metadata": {},
   "outputs": [
    {
     "data": {
      "text/plain": [
       "AssignmentPK: int64\n",
       "AssignmentNumber: string\n",
       "ReceivedDate: timestamp[us]\n",
       "Sequence: int64\n",
       "Section: string\n",
       "Wave: string\n",
       "Status: string\n",
       "HoldStatus: string\n",
       "AssignmentType: string\n",
       "CustomerType: string\n",
       "FullContainerPickIndicator: int32\n",
       "CatchWeightIndicator: int32\n",
       "MovedForwardIndicator: int32\n",
       "FullCaseQty: int32\n",
       "SplitCaseQty: int32\n",
       "TotalCube: decimal128(20, 10)\n",
       "TotalWeight: decimal128(20, 10)\n",
       "FullCasePickedQty: int32\n",
       "SplitCasePickedQty: int32\n",
       "FullCaseShortedQty: int32\n",
       "SplitCaseShortedQty: int32\n",
       "AllocatedTo: string\n",
       "StartPickTime: timestamp[us]\n",
       "EndPickTime: timestamp[us]\n",
       "StandardTime: string\n",
       "CustomData: string\n",
       "ShiftStartDateTime: timestamp[us]\n",
       "ExtendedCustomerData: string\n",
       "StopCount: int32\n",
       "BatchPK: int64\n",
       "PrintCaseLabelsIndicator: int32\n",
       "InstructionDisplayIndication: string\n",
       "AssignmentInstructions: string\n",
       "DeliveryDate: timestamp[us]\n",
       "UserDefined1: string\n",
       "UserDefined2: string\n",
       "TotalContainers: int32\n",
       "VisitCount: int32\n",
       "Cdc_Row_Load_Ts: timestamp[us]\n",
       "Cdc_Row_Change_Code: string\n",
       "Audit_Orig_Src_Sys_Code: string\n",
       "Audit_Ingest_Src_Sys_Code: string"
      ]
     },
     "execution_count": 3,
     "metadata": {},
     "output_type": "execute_result"
    }
   ],
   "source": [
    "import pyarrow.parquet as pq\n",
    "path='C:\\\\Users\\\\dkprn4d\\\\Downloads\\\\FAR-DC\\\\Assignment.parquet'\n",
    "table = pq.read_table(path)\n",
    "table.schema"
   ]
  },
  {
   "cell_type": "code",
   "execution_count": 4,
   "id": "b77ab8d2-ae48-4825-a70c-0c910156bd5a",
   "metadata": {},
   "outputs": [
    {
     "data": {
      "text/plain": [
       "BatchPK: int64\n",
       "Batch: string\n",
       "CreateTime: timestamp[us]\n",
       "Cdc_Row_Load_Ts: timestamp[us]\n",
       "Cdc_Row_Change_Code: string\n",
       "Audit_Orig_Src_Sys_Code: string\n",
       "Audit_Ingest_Src_Sys_Code: string"
      ]
     },
     "execution_count": 4,
     "metadata": {},
     "output_type": "execute_result"
    }
   ],
   "source": [
    "import pyarrow.parquet as pq\n",
    "path='C:\\\\Users\\\\dkprn4d\\\\Downloads\\\\FAR-DC\\\\Batch.parquet'\n",
    "table = pq.read_table(path)\n",
    "table.schema"
   ]
  },
  {
   "cell_type": "code",
   "execution_count": 5,
   "id": "8a278b07-2fa9-4f09-89c9-eed9a467d57e",
   "metadata": {},
   "outputs": [
    {
     "data": {
      "text/plain": [
       "ContainerPK: int64\n",
       "AssignmentPK: int64\n",
       "ContainerID: string\n",
       "RouteID: string\n",
       "DeliveryDate: timestamp[us]\n",
       "Door: string\n",
       "StagingPoint: string\n",
       "PickSkid: string\n",
       "FullCaseQty: int32\n",
       "SplitCaseQty: int32\n",
       "Cube: decimal128(20, 10)\n",
       "Weight: decimal128(20, 10)\n",
       "ContainerType: string\n",
       "StopsSummary: string\n",
       "CustomData: string\n",
       "ContainerBarcode: string\n",
       "RoutePK: int64\n",
       "Origin: string\n",
       "Section: string\n",
       "LoadSequence: int32\n",
       "FirstStop: string\n",
       "ContainerStatus: string\n",
       "Location: string\n",
       "ShortStatus: string\n",
       "ContainerNotes: string\n",
       "LoadException: string\n",
       "LoadDateTime: timestamp[us]\n",
       "LoaderID: string\n",
       "PickPK: int64\n",
       "ParentContainerPK: int64\n",
       "CaptureProperties: string\n",
       "CaptureResults: string\n",
       "PalletID: string\n",
       "TrailerZoneX: int32\n",
       "TrailerZoneY: int32\n",
       "TrailerZone: string\n",
       "ContainerSequence: int32\n",
       "AlternateAssignment: string\n",
       "Cdc_Row_Load_Ts: timestamp[us]\n",
       "Cdc_Row_Change_Code: string\n",
       "Audit_Orig_Src_Sys_Code: string\n",
       "Audit_Ingest_Src_Sys_Code: string"
      ]
     },
     "execution_count": 5,
     "metadata": {},
     "output_type": "execute_result"
    }
   ],
   "source": [
    "import pyarrow.parquet as pq\n",
    "path='C:\\\\Users\\\\dkprn4d\\\\Downloads\\\\FAR-DC\\\\Container.parquet'\n",
    "table = pq.read_table(path)\n",
    "table.schema"
   ]
  },
  {
   "cell_type": "code",
   "execution_count": 7,
   "id": "76bae33d-4b81-4256-8ad3-9805ff11c6a0",
   "metadata": {},
   "outputs": [
    {
     "data": {
      "text/plain": [
       "DelayCodeID: string\n",
       "DelayCodeName: string\n",
       "Cdc_Row_Load_Ts: timestamp[us]\n",
       "Cdc_Row_Change_Code: string\n",
       "Audit_Orig_Src_Sys_Code: string\n",
       "Audit_Ingest_Src_Sys_Code: string"
      ]
     },
     "execution_count": 7,
     "metadata": {},
     "output_type": "execute_result"
    }
   ],
   "source": [
    "import pyarrow.parquet as pq\n",
    "path='C:\\\\Users\\\\dkprn4d\\\\Downloads\\\\FAR-DC\\\\DelayCode.parquet'\n",
    "table = pq.read_table(path)\n",
    "table.schema"
   ]
  },
  {
   "cell_type": "code",
   "execution_count": 8,
   "id": "f14dae46-90f6-4e43-915b-65771962a4f2",
   "metadata": {},
   "outputs": [
    {
     "data": {
      "text/plain": [
       "DelayCodeID: string\n",
       "DelayCodeName: string\n",
       "Cdc_Row_Load_Ts: timestamp[us]\n",
       "Cdc_Row_Change_Code: string\n",
       "Audit_Orig_Src_Sys_Code: string\n",
       "Audit_Ingest_Src_Sys_Code: string"
      ]
     },
     "execution_count": 8,
     "metadata": {},
     "output_type": "execute_result"
    }
   ],
   "source": [
    "import pyarrow.parquet as pq\n",
    "path='C:\\\\Users\\\\dkprn4d\\\\Downloads\\\\FAR-DC\\\\DelayCode.parquet'\n",
    "table = pq.read_table(path)\n",
    "table.schema"
   ]
  },
  {
   "cell_type": "code",
   "execution_count": 9,
   "id": "39854a67-3f46-442c-9670-4b5920c41b2d",
   "metadata": {},
   "outputs": [
    {
     "data": {
      "text/plain": [
       "DeviceUsagePK: int64\n",
       "MACAddr: string\n",
       "SerialNumber: string\n",
       "DeviceType: string\n",
       "PrinterID: string\n",
       "UserID: string\n",
       "UsageDateTime: timestamp[us]\n",
       "Cdc_Row_Load_Ts: timestamp[us]\n",
       "Cdc_Row_Change_Code: string\n",
       "Audit_Orig_Src_Sys_Code: string\n",
       "Audit_Ingest_Src_Sys_Code: string"
      ]
     },
     "execution_count": 9,
     "metadata": {},
     "output_type": "execute_result"
    }
   ],
   "source": [
    "import pyarrow.parquet as pq\n",
    "path='C:\\\\Users\\\\dkprn4d\\\\Downloads\\\\FAR-DC\\\\DeviceUsage.parquet'\n",
    "table = pq.read_table(path)\n",
    "table.schema"
   ]
  },
  {
   "cell_type": "code",
   "execution_count": 10,
   "id": "e8d8643a-7a8f-4475-8c66-3fdf924ed189",
   "metadata": {},
   "outputs": [
    {
     "data": {
      "text/plain": [
       "EquipmentPK: int64\n",
       "EquipmentID: string\n",
       "Cdc_Row_Load_Ts: timestamp[us]\n",
       "Cdc_Row_Change_Code: string\n",
       "Audit_Orig_Src_Sys_Code: string\n",
       "Audit_Ingest_Src_Sys_Code: string"
      ]
     },
     "execution_count": 10,
     "metadata": {},
     "output_type": "execute_result"
    }
   ],
   "source": [
    "import pyarrow.parquet as pq\n",
    "path='C:\\\\Users\\\\dkprn4d\\\\Downloads\\\\FAR-DC\\\\Equipment.parquet'\n",
    "table = pq.read_table(path)\n",
    "table.schema"
   ]
  },
  {
   "cell_type": "code",
   "execution_count": 11,
   "id": "d4cea1ad-b527-4f9c-8b06-4afbf96547b0",
   "metadata": {},
   "outputs": [
    {
     "data": {
      "text/plain": [
       "ExceptionPK: int64\n",
       "ExceptionDateTime: timestamp[us]\n",
       "ExceptionType: string\n",
       "UserID: string\n",
       "AssignmentNumber: string\n",
       "RouteID: string\n",
       "DeliveryDate: timestamp[us]\n",
       "Section: string\n",
       "Door: string\n",
       "Slot: string\n",
       "ItemNumber: string\n",
       "Description: string\n",
       "ScannedValue: string\n",
       "ShiftStartDateTime: timestamp[us]\n",
       "UserName: string\n",
       "Aisle: string\n",
       "PickPK: int64\n",
       "EntryMethod: string\n",
       "Reason: string\n",
       "Cdc_Row_Load_Ts: timestamp[us]\n",
       "Cdc_Row_Change_Code: string\n",
       "Audit_Orig_Src_Sys_Code: string\n",
       "Audit_Ingest_Src_Sys_Code: string"
      ]
     },
     "execution_count": 11,
     "metadata": {},
     "output_type": "execute_result"
    }
   ],
   "source": [
    "import pyarrow.parquet as pq\n",
    "path='C:\\\\Users\\\\dkprn4d\\\\Downloads\\\\FAR-DC\\\\Exception.parquet'\n",
    "table = pq.read_table(path)\n",
    "table.schema"
   ]
  },
  {
   "cell_type": "code",
   "execution_count": 12,
   "id": "f939e5f1-93b2-4bf0-a791-9154c1744db7",
   "metadata": {},
   "outputs": [
    {
     "data": {
      "text/plain": [
       "HostActivityPK: int64\n",
       "ActivityDateTime: timestamp[us]\n",
       "UserID: string\n",
       "ActivityType: string\n",
       "StoredProcedureName: string\n",
       "RouteID: string\n",
       "RoutePK: int64\n",
       "DeliveryDate: timestamp[us]\n",
       "AssignmentNumber: string\n",
       "AssignmentPK: int64\n",
       "ContainerID: string\n",
       "ContainerPK: int64\n",
       "PickPK: int64\n",
       "Details: string\n",
       "Description: string\n",
       "DatabaseUser: string\n",
       "Reported: int32\n",
       "Cdc_Row_Load_Ts: timestamp[us]\n",
       "Cdc_Row_Change_Code: string\n",
       "Audit_Orig_Src_Sys_Code: string\n",
       "Audit_Ingest_Src_Sys_Code: string"
      ]
     },
     "execution_count": 12,
     "metadata": {},
     "output_type": "execute_result"
    }
   ],
   "source": [
    "import pyarrow.parquet as pq\n",
    "path='C:\\\\Users\\\\dkprn4d\\\\Downloads\\\\FAR-DC\\\\HostUserActivity.parquet'\n",
    "table = pq.read_table(path)\n",
    "table.schema"
   ]
  },
  {
   "cell_type": "code",
   "execution_count": 13,
   "id": "035a8fb6-57f2-4a28-990d-581b28d9b648",
   "metadata": {},
   "outputs": [
    {
     "data": {
      "text/plain": [
       "InspectionPK: int64\n",
       "EquipmentType: string\n",
       "EquipmentID: string\n",
       "InspectionDatetime: timestamp[us]\n",
       "InspectionResult: string\n",
       "InspectionFailures: string\n",
       "ShiftStartDateTime: timestamp[us]\n",
       "UserName: string\n",
       "UserID: string\n",
       "Cdc_Row_Load_Ts: timestamp[us]\n",
       "Cdc_Row_Change_Code: string\n",
       "Audit_Orig_Src_Sys_Code: string\n",
       "Audit_Ingest_Src_Sys_Code: string"
      ]
     },
     "execution_count": 13,
     "metadata": {},
     "output_type": "execute_result"
    }
   ],
   "source": [
    "import pyarrow.parquet as pq\n",
    "path='C:\\\\Users\\\\dkprn4d\\\\Downloads\\\\FAR-DC\\\\Inspection.parquet'\n",
    "table = pq.read_table(path)\n",
    "table.schema"
   ]
  },
  {
   "cell_type": "code",
   "execution_count": 14,
   "id": "733e90a8-07f9-4571-807d-d75878c70998",
   "metadata": {},
   "outputs": [
    {
     "data": {
      "text/plain": [
       "EquipmentType: string\n",
       "InspectionTypeID: string\n",
       "InspectionTypeName: string\n",
       "Cdc_Row_Load_Ts: timestamp[us]\n",
       "Cdc_Row_Change_Code: string\n",
       "Audit_Orig_Src_Sys_Code: string\n",
       "Audit_Ingest_Src_Sys_Code: string"
      ]
     },
     "execution_count": 14,
     "metadata": {},
     "output_type": "execute_result"
    }
   ],
   "source": [
    "import pyarrow.parquet as pq\n",
    "path='C:\\\\Users\\\\dkprn4d\\\\Downloads\\\\FAR-DC\\\\InspectionType.parquet'\n",
    "table = pq.read_table(path)\n",
    "table.schema"
   ]
  },
  {
   "cell_type": "code",
   "execution_count": 15,
   "id": "d027c52c-8748-4747-af71-38bf1c00c181",
   "metadata": {},
   "outputs": [
    {
     "data": {
      "text/plain": [
       "LoadExceptionPK: int64\n",
       "ExceptionDateTime: timestamp[us]\n",
       "ExceptionType: string\n",
       "UserID: string\n",
       "RouteID: string\n",
       "RoutePK: int64\n",
       "ContainerID: string\n",
       "ContainerPK: int64\n",
       "Cdc_Row_Load_Ts: timestamp[us]\n",
       "Cdc_Row_Change_Code: string\n",
       "Audit_Orig_Src_Sys_Code: string\n",
       "Audit_Ingest_Src_Sys_Code: string"
      ]
     },
     "execution_count": 15,
     "metadata": {},
     "output_type": "execute_result"
    }
   ],
   "source": [
    "import pyarrow.parquet as pq\n",
    "path='C:\\\\Users\\\\dkprn4d\\\\Downloads\\\\FAR-DC\\\\LoadException.parquet'\n",
    "table = pq.read_table(path)\n",
    "table.schema"
   ]
  },
  {
   "cell_type": "code",
   "execution_count": 16,
   "id": "fd37d4e7-a84d-4f16-ba4f-0df3e48a06a0",
   "metadata": {},
   "outputs": [
    {
     "data": {
      "text/plain": [
       "MessagePK: int64\n",
       "ToUserID: string\n",
       "FromUserID: string\n",
       "CreationDateTime: timestamp[us]\n",
       "DeliveredDateTime: timestamp[us]\n",
       "MessageText: string\n",
       "LastMsgID: string\n",
       "ReplenishmentNotification: int32\n",
       "DeferMessage: bool\n",
       "Cdc_Row_Load_Ts: timestamp[us]\n",
       "Cdc_Row_Change_Code: string\n",
       "Audit_Orig_Src_Sys_Code: string\n",
       "Audit_Ingest_Src_Sys_Code: string"
      ]
     },
     "execution_count": 16,
     "metadata": {},
     "output_type": "execute_result"
    }
   ],
   "source": [
    "import pyarrow.parquet as pq\n",
    "path='C:\\\\Users\\\\dkprn4d\\\\Downloads\\\\FAR-DC\\\\Message.parquet'\n",
    "table = pq.read_table(path)\n",
    "table.schema"
   ]
  },
  {
   "cell_type": "code",
   "execution_count": 18,
   "id": "54ca4189-2fd0-4ed3-b01f-74b568dd1a8b",
   "metadata": {},
   "outputs": [
    {
     "data": {
      "text/plain": [
       "ID: string\n",
       "Description: string\n",
       "Type: string\n",
       "Maximum: decimal128(20, 10)\n",
       "Minimum: decimal128(20, 10)\n",
       "Value: string\n",
       "Sequence: int32\n",
       "Grouping: string\n",
       "VisibleIndicator: int32\n",
       "ExtendedDescription: string\n",
       "Cdc_Row_Load_Ts: timestamp[us]\n",
       "Cdc_Row_Change_Code: string\n",
       "Audit_Orig_Src_Sys_Code: string\n",
       "Audit_Ingest_Src_Sys_Code: string"
      ]
     },
     "execution_count": 18,
     "metadata": {},
     "output_type": "execute_result"
    }
   ],
   "source": [
    "import pyarrow.parquet as pq\n",
    "path='C:\\\\Users\\\\dkprn4d\\\\Downloads\\\\FAR-DC\\\\Parameters.parquet'\n",
    "table = pq.read_table(path)\n",
    "table.schema"
   ]
  },
  {
   "cell_type": "code",
   "execution_count": 19,
   "id": "8000dbad-6ac7-41de-a921-a7f81538e183",
   "metadata": {},
   "outputs": [
    {
     "data": {
      "text/plain": [
       "PickPK: int64\n",
       "AssignmentPK: int64\n",
       "PickID: string\n",
       "Sequence: int32\n",
       "ContainerPK: int64\n",
       "RouteID: string\n",
       "DeliveryDate: timestamp[us]\n",
       "CustomerID: string\n",
       "CustomerName: string\n",
       "StopID: string\n",
       "Aisle: string\n",
       "Slot: string\n",
       "SlotBarcode: string\n",
       "ItemNumber: string\n",
       "ItemDescription: string\n",
       "Pack: string\n",
       "ProductSize: string\n",
       "SplitsPerCase: int32\n",
       "VendorName: string\n",
       "VendorProductID: string\n",
       "UOM: string\n",
       "OrderNumber: string\n",
       "OrderLineNumber: string\n",
       "Invoice: string\n",
       "FullContainerPickIndicator: int32\n",
       "QtyOrdered: int32\n",
       "QtyToPick: int32\n",
       "QtyPicked: int32\n",
       "HighQtyLimit: int32\n",
       "BulkQtyLimit: int32\n",
       "BaseItemIndicator: int32\n",
       "ContainerZone: string\n",
       "PickInstructions: string\n",
       "MergePoint: string\n",
       "BeginningLabelCount: int32\n",
       "EndingLabelCount: int32\n",
       "OuterCaseCodes: string\n",
       "GS1Properties: string\n",
       "GS1Results: string\n",
       "CustomData: string\n",
       "BarcodeScanned: string\n",
       "PickedBy: string\n",
       "PickDateTime: timestamp[us]\n",
       "ShortReason: string\n",
       "PickIDReference: string\n",
       "CustomerType: string\n",
       "PickBarcode: string\n",
       "TotalQtyPicked: int32\n",
       "ShortCode: string\n",
       "EntryMethod: string\n",
       "ShortLabels: string\n",
       "MergeSlotIndicator: int32\n",
       "SplitIndicator: int32\n",
       "StopCode: string\n",
       "WatchItemIndicator: int32\n",
       "PickStatus: string\n",
       "LabelBarcodes: string\n",
       "ScanCount: int32\n",
       "AI_15_17_Limit: int32\n",
       "AI_11_13_Limit: int32\n",
       "PickUserDefined1: string\n",
       "PickUserDefined2: string\n",
       "Cdc_Row_Load_Ts: timestamp[us]\n",
       "Cdc_Row_Change_Code: string\n",
       "Audit_Orig_Src_Sys_Code: string\n",
       "Audit_Ingest_Src_Sys_Code: string"
      ]
     },
     "execution_count": 19,
     "metadata": {},
     "output_type": "execute_result"
    }
   ],
   "source": [
    "import pyarrow.parquet as pq\n",
    "path='C:\\\\Users\\\\dkprn4d\\\\Downloads\\\\FAR-DC\\\\Pick.parquet'\n",
    "table = pq.read_table(path)\n",
    "table.schema"
   ]
  },
  {
   "cell_type": "code",
   "execution_count": 20,
   "id": "f958de0e-7ffb-4c82-a973-890b99ccf809",
   "metadata": {},
   "outputs": [
    {
     "data": {
      "text/plain": [
       "RoutePK: int64\n",
       "RouteID: string\n",
       "DeliveryDate: timestamp[us]\n",
       "Dock: string\n",
       "Door: string\n",
       "Priority: string\n",
       "Origin: string\n",
       "RouteStatus: string\n",
       "DispatchDateTime: timestamp[us]\n",
       "TrailerID: string\n",
       "RouteNotes: string\n",
       "LoadingStartTime: timestamp[us]\n",
       "LoadingStartUser: string\n",
       "LoadingCompleteTime: timestamp[us]\n",
       "LoadingCompleteUser: string\n",
       "CustomData: string\n",
       "Cdc_Row_Load_Ts: timestamp[us]\n",
       "Cdc_Row_Change_Code: string\n",
       "Audit_Orig_Src_Sys_Code: string\n",
       "Audit_Ingest_Src_Sys_Code: string"
      ]
     },
     "execution_count": 20,
     "metadata": {},
     "output_type": "execute_result"
    }
   ],
   "source": [
    "import pyarrow.parquet as pq\n",
    "path='C:\\\\Users\\\\dkprn4d\\\\Downloads\\\\FAR-DC\\\\Route.parquet'\n",
    "table = pq.read_table(path)\n",
    "table.schema"
   ]
  },
  {
   "cell_type": "code",
   "execution_count": 21,
   "id": "3d7dc836-ef67-4bb1-ab6b-7973b35b4ea8",
   "metadata": {},
   "outputs": [
    {
     "data": {
      "text/plain": [
       "SectionID: string\n",
       "SectionName: string\n",
       "PalletCode: string\n",
       "Dock: string\n",
       "MergeIndicator: int32\n",
       "AisleSlotFormat: string\n",
       "Priority: int32\n",
       "RoutesToSort: int32\n",
       "PickRate: int32\n",
       "Cdc_Row_Load_Ts: timestamp[us]\n",
       "Cdc_Row_Change_Code: string\n",
       "Audit_Orig_Src_Sys_Code: string\n",
       "Audit_Ingest_Src_Sys_Code: string"
      ]
     },
     "execution_count": 21,
     "metadata": {},
     "output_type": "execute_result"
    }
   ],
   "source": [
    "import pyarrow.parquet as pq\n",
    "path='C:\\\\Users\\\\dkprn4d\\\\Downloads\\\\FAR-DC\\\\Section.parquet'\n",
    "table = pq.read_table(path)\n",
    "table.schema"
   ]
  },
  {
   "cell_type": "code",
   "execution_count": 22,
   "id": "e78c2f19-a445-469d-a4c0-01028b9447db",
   "metadata": {},
   "outputs": [
    {
     "data": {
      "text/plain": [
       "ShiftID: string\n",
       "ShiftName: string\n",
       "StartTime: string\n",
       "Cdc_Row_Load_Ts: timestamp[us]\n",
       "Cdc_Row_Change_Code: string\n",
       "Audit_Orig_Src_Sys_Code: string\n",
       "Audit_Ingest_Src_Sys_Code: string"
      ]
     },
     "execution_count": 22,
     "metadata": {},
     "output_type": "execute_result"
    }
   ],
   "source": [
    "import pyarrow.parquet as pq\n",
    "path='C:\\\\Users\\\\dkprn4d\\\\Downloads\\\\FAR-DC\\\\Shift.parquet'\n",
    "table = pq.read_table(path)\n",
    "table.schema"
   ]
  },
  {
   "cell_type": "code",
   "execution_count": 23,
   "id": "ce22e04c-e536-4bd2-a35d-b993a52ca0b3",
   "metadata": {},
   "outputs": [
    {
     "data": {
      "text/plain": [
       "ShortCodeID: string\n",
       "ShortCodeName: string\n",
       "Repick: int32\n",
       "Cdc_Row_Load_Ts: timestamp[us]\n",
       "Cdc_Row_Change_Code: string\n",
       "Audit_Orig_Src_Sys_Code: string\n",
       "Audit_Ingest_Src_Sys_Code: string"
      ]
     },
     "execution_count": 23,
     "metadata": {},
     "output_type": "execute_result"
    }
   ],
   "source": [
    "import pyarrow.parquet as pq\n",
    "path='C:\\\\Users\\\\dkprn4d\\\\Downloads\\\\FAR-DC\\\\ShortCode.parquet'\n",
    "table = pq.read_table(path)\n",
    "table.schema"
   ]
  },
  {
   "cell_type": "code",
   "execution_count": 24,
   "id": "92f6dea6-6fbb-4517-8aae-9c65df8540fa",
   "metadata": {},
   "outputs": [
    {
     "data": {
      "text/plain": [
       "UserID: string\n",
       "Name: string\n",
       "FirstName: string\n",
       "LastName: string\n",
       "Active: int32\n",
       "Shorts: string\n",
       "MaxNumStops: int32\n",
       "MaxCube: int32\n",
       "AssignmentBump: int32\n",
       "HighestCustomerType: string\n",
       "PreferredLanguage: string\n",
       "SelectionAllowed: int32\n",
       "LoadingAllowed: int32\n",
       "AuditAllowed: int32\n",
       "UserGroup: string\n",
       "Cdc_Row_Load_Ts: timestamp[us]\n",
       "Cdc_Row_Change_Code: string\n",
       "Audit_Orig_Src_Sys_Code: string\n",
       "Audit_Ingest_Src_Sys_Code: string"
      ]
     },
     "execution_count": 24,
     "metadata": {},
     "output_type": "execute_result"
    }
   ],
   "source": [
    "import pyarrow.parquet as pq\n",
    "path='C:\\\\Users\\\\dkprn4d\\\\Downloads\\\\FAR-DC\\\\User.parquet'\n",
    "table = pq.read_table(path)\n",
    "table.schema"
   ]
  },
  {
   "cell_type": "code",
   "execution_count": 25,
   "id": "888cd224-cc97-4173-a10b-2627c3db3f02",
   "metadata": {},
   "outputs": [
    {
     "data": {
      "text/plain": [
       "UserID: string\n",
       "SectionID: string\n",
       "Cdc_Row_Load_Ts: timestamp[us]\n",
       "Cdc_Row_Change_Code: string\n",
       "Audit_Orig_Src_Sys_Code: string\n",
       "Audit_Ingest_Src_Sys_Code: string"
      ]
     },
     "execution_count": 25,
     "metadata": {},
     "output_type": "execute_result"
    }
   ],
   "source": [
    "import pyarrow.parquet as pq\n",
    "path='C:\\\\Users\\\\dkprn4d\\\\Downloads\\\\FAR-DC\\\\UserSection.parquet'\n",
    "table = pq.read_table(path)\n",
    "table.schema"
   ]
  }
 ],
 "metadata": {
  "kernelspec": {
   "display_name": "Python 3 (ipykernel)",
   "language": "python",
   "name": "python3"
  },
  "language_info": {
   "codemirror_mode": {
    "name": "ipython",
    "version": 3
   },
   "file_extension": ".py",
   "mimetype": "text/x-python",
   "name": "python",
   "nbconvert_exporter": "python",
   "pygments_lexer": "ipython3",
   "version": "3.10.5"
  }
 },
 "nbformat": 4,
 "nbformat_minor": 5
}
